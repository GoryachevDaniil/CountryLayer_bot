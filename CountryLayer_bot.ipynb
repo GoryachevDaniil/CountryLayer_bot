{
  "nbformat": 4,
  "nbformat_minor": 0,
  "metadata": {
    "colab": {
      "provenance": [],
      "collapsed_sections": [
        "TFHlK4k4-qHx",
        "LlMnFm44f_XO"
      ]
    },
    "kernelspec": {
      "name": "python3",
      "display_name": "Python 3"
    },
    "language_info": {
      "name": "python"
    }
  },
  "cells": [
    {
      "cell_type": "markdown",
      "source": [
        "## Core"
      ],
      "metadata": {
        "id": "TFHlK4k4-qHx"
      }
    },
    {
      "cell_type": "code",
      "source": [
        "# !pip install requests\n",
        "!pip3 install pytelegrambotapi"
      ],
      "metadata": {
        "id": "3BYHyICMRnME",
        "colab": {
          "base_uri": "https://localhost:8080/"
        },
        "outputId": "b406d825-4441-4a8c-bc97-0b734cd26a90"
      },
      "execution_count": null,
      "outputs": [
        {
          "output_type": "stream",
          "name": "stdout",
          "text": [
            "Collecting pytelegrambotapi\n",
            "  Downloading pyTelegramBotAPI-4.13.0.tar.gz (232 kB)\n",
            "\u001b[?25l     \u001b[90m━━━━━━━━━━━━━━━━━━━━━━━━━━━━━━━━━━━━━━━━\u001b[0m \u001b[32m0.0/232.8 kB\u001b[0m \u001b[31m?\u001b[0m eta \u001b[36m-:--:--\u001b[0m\r\u001b[2K     \u001b[91m━━━━━━━━━━━━━━━━━━\u001b[0m\u001b[91m╸\u001b[0m\u001b[90m━━━━━━━━━━━━━━━━━━━━\u001b[0m \u001b[32m112.6/232.8 kB\u001b[0m \u001b[31m3.3 MB/s\u001b[0m eta \u001b[36m0:00:01\u001b[0m\r\u001b[2K     \u001b[90m━━━━━━━━━━━━━━━━━━━━━━━━━━━━━━━━━━━━━━━\u001b[0m \u001b[32m232.8/232.8 kB\u001b[0m \u001b[31m4.3 MB/s\u001b[0m eta \u001b[36m0:00:00\u001b[0m\n",
            "\u001b[?25h  Preparing metadata (setup.py) ... \u001b[?25l\u001b[?25hdone\n",
            "Requirement already satisfied: requests in /usr/local/lib/python3.10/dist-packages (from pytelegrambotapi) (2.31.0)\n",
            "Requirement already satisfied: charset-normalizer<4,>=2 in /usr/local/lib/python3.10/dist-packages (from requests->pytelegrambotapi) (3.2.0)\n",
            "Requirement already satisfied: idna<4,>=2.5 in /usr/local/lib/python3.10/dist-packages (from requests->pytelegrambotapi) (3.4)\n",
            "Requirement already satisfied: urllib3<3,>=1.21.1 in /usr/local/lib/python3.10/dist-packages (from requests->pytelegrambotapi) (2.0.4)\n",
            "Requirement already satisfied: certifi>=2017.4.17 in /usr/local/lib/python3.10/dist-packages (from requests->pytelegrambotapi) (2023.7.22)\n",
            "Building wheels for collected packages: pytelegrambotapi\n",
            "  Building wheel for pytelegrambotapi (setup.py) ... \u001b[?25l\u001b[?25hdone\n",
            "  Created wheel for pytelegrambotapi: filename=pyTelegramBotAPI-4.13.0-py3-none-any.whl size=214529 sha256=c476ca9902f5a406f639c45d9a238fbf17bf3c81791364f16f572f39a09a3a7e\n",
            "  Stored in directory: /root/.cache/pip/wheels/f7/1a/3b/41e1ce64625e3f11567085dc79043d9fa573a2cc39f9938556\n",
            "Successfully built pytelegrambotapi\n",
            "Installing collected packages: pytelegrambotapi\n",
            "Successfully installed pytelegrambotapi-4.13.0\n"
          ]
        }
      ]
    },
    {
      "cell_type": "code",
      "source": [
        "import requests\n",
        "import json\n",
        "from time import sleep\n",
        "\n",
        "import telebot\n",
        "from telebot import types"
      ],
      "metadata": {
        "id": "NNSerIQQRsQ4"
      },
      "execution_count": null,
      "outputs": []
    },
    {
      "cell_type": "markdown",
      "source": [
        "## API class"
      ],
      "metadata": {
        "id": "LlMnFm44f_XO"
      }
    },
    {
      "cell_type": "code",
      "source": [
        "class CountryLayerApi:\n",
        "    def __init__(self):\n",
        "        self.__response = None\n",
        "        self.__url = \"http://api.countrylayer.com/v2/\"\n",
        "        self.__params = {\"access_key\" : \"b02128de0572396cc66a1d8097aa6de6\" }                                    # Personal key\n",
        "        self.__errors_numbers = {404 : \"Error 404: The requested resource does not exist.\", \\\n",
        "                                 401 : \"Error 401: Unauthorized.\", \\\n",
        "                                 403 : \"Error 403: Forbidden.\", \\\n",
        "                                 101 : \"Error 101: No API Key was specified or an invalid API Key was specified.\", \\\n",
        "                                 103 : \"Error 103: The requested API endpoint does not exist.\", \\\n",
        "                                 104 : \"Error 104: The maximum allowed API amount of monthly API requests has been reached.\", \\\n",
        "                                 429 : \"Error 429: Too Many Requests.\"}\n",
        "\n",
        "    def get_request_to_api(self, url):\n",
        "        return (self.handdle_errors(response = requests.get(url, params=self.__params)))\n",
        "\n",
        "    def request_all(self):\n",
        "        return self.get_request_to_api(self.__url + \"all\")\n",
        "\n",
        "    def request_country_name(self, country_name):\n",
        "        return self.get_request_to_api(self.__url + f\"name/{country_name}\")\n",
        "\n",
        "    def request_country_capital(self, capital):\n",
        "        return self.get_request_to_api(self.__url + f\"capital/{capital}\")\n",
        "\n",
        "    def request_country_language(self, language):\n",
        "        return self.get_request_to_api(self.__url + f\"language/{language}\")\n",
        "\n",
        "    def request_country_currency(self, currency):\n",
        "        return self.get_request_to_api(self.__url + f\"currency/{currency}\")\n",
        "\n",
        "    def request_country_region(self, region):\n",
        "        return self.get_request_to_api(self.__url + f\"region/{region}\")\n",
        "\n",
        "    def request_country_regionalbloc(self, regionalbloc):                           # example : \"EU/RU/\"\n",
        "        return self.get_request_to_api(self.__url + f\"regionalbloc/{regionalbloc}\")\n",
        "\n",
        "    def request_country_calling_code(self, callingcode):\n",
        "        return self.get_request_to_api(self.__url + f\"callingcode/{callingcode}\")\n",
        "\n",
        "    def handdle_errors(self, response):\n",
        "        if response.status_code == 200:\n",
        "            return self.response_to_user(response)\n",
        "        elif response.status_code in self.__errors_numbers:\n",
        "            return(self.__errors_numbers[response.status_code])\n",
        "        else:\n",
        "            return \"Request error. Try again.\"\n",
        "\n",
        "    def response_to_user(self, response):\n",
        "        return response"
      ],
      "metadata": {
        "id": "2fNbFqQyYOv0"
      },
      "execution_count": null,
      "outputs": []
    },
    {
      "cell_type": "markdown",
      "source": [
        "tests\n"
      ],
      "metadata": {
        "id": "0fyT3GlmJxCL"
      }
    },
    {
      "cell_type": "code",
      "source": [],
      "metadata": {
        "id": "Lj1Tv-ExJ2PD"
      },
      "execution_count": null,
      "outputs": []
    },
    {
      "cell_type": "markdown",
      "source": [
        "## Telebot"
      ],
      "metadata": {
        "id": "JAWTAy40KENd"
      }
    },
    {
      "cell_type": "code",
      "source": [
        "token = '6244709804:AAE35sTigDut3AmYuwl6y50J0_eE8JBrQQk'                                                                      # Personal token\n",
        "bot = telebot.TeleBot(token)\n",
        "api_request = CountryLayerApi()\n",
        "\n",
        "# /start\n",
        "@bot.message_handler(commands=['start'])\n",
        "def start(message):\n",
        "    markup = types.ReplyKeyboardMarkup(resize_keyboard=True)\n",
        "    btn = types.KeyboardButton(\"Главное меню\")\n",
        "    markup.add(btn)\n",
        "    bot.send_message(message.from_user.id, \"👋 Вас приветствует бот для запросов к сервису https://countrylayer.com/\", reply_markup=markup)\n",
        "\n",
        "# /help\n",
        "@bot.message_handler(commands=['help'])\n",
        "def help(message):\n",
        "    markup = types.ReplyKeyboardMarkup(resize_keyboard=True)\n",
        "    btn1 = types.KeyboardButton('/start')\n",
        "    markup.add(btn1)\n",
        "    bot.reply_to(message, \"Бот справочник может рассказать какие бывают страны а также найти срану по столице или региону.\\nВведите /start чтобы перейти к списку запросов.\", reply_markup=markup)\n",
        "\n",
        "# Handler\n",
        "@bot.message_handler(content_types=['text'])\n",
        "def get_text_messages(message):\n",
        "    # #Список запросов\n",
        "    if message.text == 'Главное меню':\n",
        "        markup = types.ReplyKeyboardMarkup(resize_keyboard=True)\n",
        "        btn1 = types.KeyboardButton(\"Посмотреть список всех стран мира\")\n",
        "        btn2 = types.KeyboardButton(\"Поиск по названию страны\")\n",
        "        btn3 = types.KeyboardButton('Поиск по названию столицы')\n",
        "        btn4 = types.KeyboardButton('Поиск по языку')\n",
        "        btn5 = types.KeyboardButton('Поиск по валюте')\n",
        "        btn6 = types.KeyboardButton('Поиск по региону')\n",
        "        btn7 = types.KeyboardButton('Поиск по региональному блоку')\n",
        "        btn8 = types.KeyboardButton('Поиск по коду')\n",
        "        btn9 = types.KeyboardButton('Главное меню')\n",
        "        markup.add(btn1, btn2, btn3, btn4, btn5, btn6, btn7, btn8, btn9)\n",
        "        bot.send_message(message.from_user.id, '👀 Выберите способ поиска.', reply_markup=markup)\n",
        "\n",
        "    # Запрос \"Все страны\"\n",
        "    elif message.text == 'Посмотреть список всех стран мира':\n",
        "        make_response_to_user(message, api_request.request_all())\n",
        "\n",
        "    # Поиск по названию страны\n",
        "    elif message.text == 'Поиск по названию страны':\n",
        "        bot.send_message(message.chat.id, \"Введите название страны: \")\n",
        "        bot.register_next_step_handler(message, bot_request_country_name)\n",
        "\n",
        "    # Поиск по названию столицы\n",
        "    elif message.text == 'Поиск по названию столицы':\n",
        "        bot.send_message(message.chat.id, \"Введите название столицы: \")\n",
        "        bot.register_next_step_handler(message, bot_request_country_capital)\n",
        "\n",
        "    # Поиск по названию страны\n",
        "    elif message.text == 'Поиск по языку':\n",
        "        bot.send_message(message.chat.id, \"Введите название столицы: \")\n",
        "        bot.register_next_step_handler(message, bot_request_country_language)\n",
        "\n",
        "    # Поиск по валюте\n",
        "    elif message.text == 'Поиск по валюте':\n",
        "        bot.send_message(message.chat.id, \"Введите название столицы: \")\n",
        "        bot.register_next_step_handler(message, bot_request_country_currency)\n",
        "\n",
        "    # Поиск по региону\n",
        "    elif message.text == 'Поиск по региону':\n",
        "        bot.send_message(message.chat.id, \"Введите название региона: \")\n",
        "        bot.register_next_step_handler(message, bot_request_country_region)\n",
        "\n",
        "    # Поиск по региональному блоку\n",
        "    elif message.text == 'Поиск по региональному блоку':\n",
        "        bot.send_message(message.chat.id, \"Введите название региональному блоку: \")\n",
        "        bot.register_next_step_handler(message, bot_request_country_regionalbloc)\n",
        "\n",
        "    # Поиск по коду\n",
        "    elif message.text == 'Поиск по коду':\n",
        "        bot.send_message(message.chat.id, \"Введите название коду: \")\n",
        "        bot.register_next_step_handler(message, bot_request_country_calling_code)\n",
        "\n",
        "    # Anyway\n",
        "    else:\n",
        "        markup = types.ReplyKeyboardMarkup(resize_keyboard=True)\n",
        "        btn = types.KeyboardButton(\"/help\")\n",
        "        markup.add(btn)\n",
        "        bot.send_message(message.from_user.id, \"Такой команды нет. Введите команду /help.\", reply_markup=markup)\n",
        "\n",
        "\n",
        "# .from_user.id\n",
        "# Название страны\n",
        "def bot_request_country_name(message):\n",
        "    if message.text is not None:\n",
        "        make_response_to_user(message, api_request.request_country_name(message.text.strip().lower()))\n",
        "\n",
        "# Название столицы\n",
        "def bot_request_country_capital(message):\n",
        "    if message.text is not None:\n",
        "        make_response_to_user(message, api_request.request_country_capital(message.text.strip().lower()))\n",
        "\n",
        "# Название языка\n",
        "def bot_request_country_language(message):\n",
        "    if message.text is not None:\n",
        "        make_response_to_user(message, api_request.request_country_language(message.text.strip().lower()))\n",
        "\n",
        "# Название валюты\n",
        "def bot_request_country_currency(message):\n",
        "    if message.text is not None:\n",
        "        make_response_to_user(message, api_request.request_country_currency(message.text.strip().lower()))\n",
        "\n",
        "# Название региона\n",
        "def bot_request_country_region(message):\n",
        "    if message.text is not None:\n",
        "        make_response_to_user(message, api_request.request_country_region(message.text.strip().lower()))\n",
        "\n",
        "# Номер регионального блока\n",
        "def bot_request_country_regionalbloc(message):\n",
        "    if message.text is not None:\n",
        "        make_response_to_user(message, api_request.request_country_regionalbloc(message.text.strip().lower()))\n",
        "\n",
        "# Номер кода\n",
        "def bot_request_country_calling_code(message):\n",
        "    if message.text is not None:\n",
        "        make_response_to_user(message, api_request.request_country_calling_code(message.text.strip().lower()))\n",
        "\n",
        "# Response to user\n",
        "def make_response_to_user(message, response):\n",
        "\n",
        "    # keyboard\n",
        "    markup = types.ReplyKeyboardMarkup(resize_keyboard=True)\n",
        "    btn1 = types.KeyboardButton(\"Главное меню\")\n",
        "    markup.add(btn1)\n",
        "    markup = markup\n",
        "\n",
        "    # check errors\n",
        "    if type(response) is str:\n",
        "        bot.send_message(message.from_user.id, response)\n",
        "    else:\n",
        "        data = json.loads(response.text)\n",
        "\n",
        "        # record to list\n",
        "        answer = []\n",
        "        for i in data:\n",
        "            tmp = []\n",
        "            for j in i:\n",
        "                tmp.append(str(j) + ': ' + str(i[j]))\n",
        "            answer.append(tmp)\n",
        "\n",
        "        # text format\n",
        "        response_to_user = ''\n",
        "        for i in range(len(answer)):\n",
        "            response_to_user += '\\n'.join(answer[i]) + '\\n\\n'\n",
        "        response_to_user = response_to_user.strip()\n",
        "\n",
        "        # visual features\n",
        "        list_total_cnt = (len(answer) // 15) + 1 if len(answer) % 15 != 0 else len(answer) // 15\n",
        "\n",
        "        # preprocessing and sending response message\n",
        "        if not response_to_user:\n",
        "            bot.send_message(message.from_user.id, \"Данных по запросу не найдено\")\n",
        "        elif len(response_to_user) > 4096:\n",
        "            for i in range(0, len(answer), 15):\n",
        "                msg = \"\"\n",
        "                for j in range(i, (i + 15)):\n",
        "                    if j < len(answer):\n",
        "                        msg += '\\n'.join(answer[j]) + '\\n\\n'\n",
        "                msg = msg.strip()\n",
        "                msg = f'List {(i // 15) + 1}/{list_total_cnt}:\\n\\n' + msg\n",
        "                if len(msg) <= 4096:\n",
        "                    bot.send_message(message.chat.id, msg, parse_mode='Markdown')\n",
        "                else:\n",
        "                    bot.send_message(message.chat.id, \"Message symbol limit overflow\", parse_mode='Markdown')\n",
        "                sleep(1)\n",
        "        else:\n",
        "            bot.send_message(message.chat.id, f'List 1/1:\\n\\n' + response_to_user, parse_mode='Markdown')\n",
        "\n",
        "    bot.send_message(message.from_user.id, \"Для возврата в главное меню нажмите кнопку 'Главное меню'\", reply_markup=markup)\n",
        "\n",
        "# Non-stop polling\n",
        "bot.polling(none_stop=True, interval=0)"
      ],
      "metadata": {
        "id": "Xbf6tGB8ROnh"
      },
      "execution_count": null,
      "outputs": []
    },
    {
      "cell_type": "markdown",
      "source": [
        "## FastAPI\n"
      ],
      "metadata": {
        "id": "sn6nPjyvhN-S"
      }
    },
    {
      "cell_type": "code",
      "source": [],
      "metadata": {
        "id": "xYB7bIBshQpS"
      },
      "execution_count": null,
      "outputs": []
    }
  ]
}